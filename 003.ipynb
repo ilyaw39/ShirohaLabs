{
 "cells": [
  {
   "cell_type": "code",
   "execution_count": 2,
   "outputs": [
    {
     "name": "stdout",
     "output_type": "stream",
     "text": [
      "content='中国的首都是北京。' additional_kwargs={} example=False\n"
     ]
    }
   ],
   "source": [
    "from langchain.memory import ChatMessageHistory\n",
    "from langchain.chat_models import ChatOpenAI\n",
    "\n",
    "chat = ChatOpenAI(temperature=0)\n",
    "\n",
    "# 初始化 MessageHistory 对象\n",
    "history = ChatMessageHistory()\n",
    "\n",
    "# 给 MessageHistory 对象添加对话内容\n",
    "history.add_ai_message(\"你好！\")\n",
    "history.add_user_message(\"中国的首都是哪里？\")\n",
    "\n",
    "# 执行对话\n",
    "ai_response = chat(history.messages)\n",
    "print(ai_response)"
   ],
   "metadata": {
    "collapsed": false,
    "ExecuteTime": {
     "end_time": "2023-05-17T21:52:56.557403Z",
     "start_time": "2023-05-17T21:52:54.438590Z"
    }
   }
  },
  {
   "cell_type": "code",
   "execution_count": null,
   "outputs": [],
   "source": [],
   "metadata": {
    "collapsed": false
   }
  }
 ],
 "metadata": {
  "kernelspec": {
   "display_name": "Python 3",
   "language": "python",
   "name": "python3"
  },
  "language_info": {
   "codemirror_mode": {
    "name": "ipython",
    "version": 2
   },
   "file_extension": ".py",
   "mimetype": "text/x-python",
   "name": "python",
   "nbconvert_exporter": "python",
   "pygments_lexer": "ipython2",
   "version": "2.7.6"
  }
 },
 "nbformat": 4,
 "nbformat_minor": 0
}
