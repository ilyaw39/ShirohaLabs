{
 "cells": [
  {
   "cell_type": "code",
   "execution_count": 2,
   "outputs": [],
   "source": [
    "import os\n",
    "\n",
    "OPENAI_API_KEY = os.getenv(\"OPENAI_API_KEY\")"
   ],
   "metadata": {
    "collapsed": false,
    "ExecuteTime": {
     "end_time": "2023-05-17T10:10:49.047647Z",
     "start_time": "2023-05-17T10:10:49.034789Z"
    }
   }
  },
  {
   "cell_type": "markdown",
   "source": [
    "# Chat Messages"
   ],
   "metadata": {
    "collapsed": false
   }
  },
  {
   "cell_type": "code",
   "execution_count": 6,
   "outputs": [],
   "source": [
    "from langchain.chat_models import ChatOpenAI\n",
    "from langchain.schema import SystemMessage, HumanMessage, AIMessage"
   ],
   "metadata": {
    "collapsed": false,
    "ExecuteTime": {
     "end_time": "2023-05-17T10:33:08.820486Z",
     "start_time": "2023-05-17T10:33:08.814273Z"
    }
   }
  },
  {
   "cell_type": "code",
   "execution_count": 39,
   "outputs": [],
   "source": [
    "class ChatMessage(object):\n",
    "    def __init__(\n",
    "            self,\n",
    "            msg_type: int = 1,\n",
    "            msg_content: str = \"\",\n",
    "    ):\n",
    "        self._msg_type = msg_type\n",
    "        self._msg_content = msg_content\n",
    "        self._chat_msg_list = []\n",
    "        self._add_msg()\n",
    "\n",
    "    def _add_msg(self) -> list:\n",
    "        if self._msg_type == 1:\n",
    "            self._chat_msg_list.append(SystemMessage(content=self._msg_content))\n",
    "        elif self._msg_type == 2:\n",
    "            self._chat_msg_list.append(HumanMessage(content=self._msg_content))\n",
    "        elif self._msg_type == 3:\n",
    "            self._chat_msg_list.append(AIMessage(content=self._msg_content))\n",
    "        else:\n",
    "            return [\"ERROR!\"]\n",
    "\n",
    "    def get_msg(self) -> list:\n",
    "        return self._chat_msg_list"
   ],
   "metadata": {
    "collapsed": false,
    "ExecuteTime": {
     "end_time": "2023-05-17T11:24:32.191993Z",
     "start_time": "2023-05-17T11:24:32.189738Z"
    }
   }
  },
  {
   "cell_type": "code",
   "execution_count": 52,
   "outputs": [],
   "source": [
    "class ChatMessageList:\n",
    "    def __init__(\n",
    "            self,\n",
    "            msg,\n",
    "            msg_list,\n",
    "    ):\n",
    "        self._msg_list = msg_list\n",
    "        self._msg = msg.get_msg()\n",
    "\n",
    "    def get_msg_list(self) -> list:\n",
    "        return self._msg_list + self._msg"
   ],
   "metadata": {
    "collapsed": false,
    "ExecuteTime": {
     "end_time": "2023-05-17T11:27:09.173492Z",
     "start_time": "2023-05-17T11:27:09.169724Z"
    }
   }
  },
  {
   "cell_type": "code",
   "execution_count": 53,
   "outputs": [
    {
     "data": {
      "text/plain": "[SystemMessage(content='HELLO!', additional_kwargs={})]"
     },
     "execution_count": 53,
     "metadata": {},
     "output_type": "execute_result"
    }
   ],
   "source": [
    "t1 = ChatMessage(msg_type=1, msg_content=\"HELLO!\")\n",
    "t1.get_msg()"
   ],
   "metadata": {
    "collapsed": false,
    "ExecuteTime": {
     "end_time": "2023-05-17T11:27:09.478947Z",
     "start_time": "2023-05-17T11:27:09.474532Z"
    }
   }
  },
  {
   "cell_type": "code",
   "execution_count": 58,
   "outputs": [
    {
     "data": {
      "text/plain": "[SystemMessage(content='HELLO!', additional_kwargs={}),\n SystemMessage(content='HELLO!', additional_kwargs={})]"
     },
     "execution_count": 58,
     "metadata": {},
     "output_type": "execute_result"
    }
   ],
   "source": [
    "t2 = ChatMessageList(msg=t1, msg_list=t1.get_msg())\n",
    "t2.get_msg_list()"
   ],
   "metadata": {
    "collapsed": false,
    "ExecuteTime": {
     "end_time": "2023-05-17T11:29:21.055679Z",
     "start_time": "2023-05-17T11:29:21.051715Z"
    }
   }
  },
  {
   "cell_type": "code",
   "execution_count": null,
   "outputs": [],
   "source": [],
   "metadata": {
    "collapsed": false
   }
  }
 ],
 "metadata": {
  "kernelspec": {
   "display_name": "Python 3",
   "language": "python",
   "name": "python3"
  },
  "language_info": {
   "codemirror_mode": {
    "name": "ipython",
    "version": 2
   },
   "file_extension": ".py",
   "mimetype": "text/x-python",
   "name": "python",
   "nbconvert_exporter": "python",
   "pygments_lexer": "ipython2",
   "version": "2.7.6"
  }
 },
 "nbformat": 4,
 "nbformat_minor": 0
}
