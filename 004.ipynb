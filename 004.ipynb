{
 "cells": [
  {
   "cell_type": "code",
   "execution_count": 4,
   "metadata": {
    "collapsed": true,
    "ExecuteTime": {
     "end_time": "2023-05-18T03:05:14.912976Z",
     "start_time": "2023-05-18T03:05:13.882661Z"
    }
   },
   "outputs": [],
   "source": [
    "from langchain.document_loaders import UnstructuredEPubLoader, DirectoryLoader\n",
    "from langchain.document_loaders import UnstructuredFileLoader\n",
    "from langchain.chains.summarize import load_summarize_chain\n",
    "from langchain.text_splitter import RecursiveCharacterTextSplitter\n",
    "from langchain import OpenAI, VectorDBQA\n",
    "from langchain.embeddings.openai import OpenAIEmbeddings\n",
    "\n",
    "\n",
    "from langchain.text_splitter import CharacterTextSplitter\n",
    "from langchain.document_loaders import DirectoryLoader\n",
    "from langchain.vectorstores import Chroma, Pinecone, FAISS\n",
    "from langchain.embeddings.openai import OpenAIEmbeddings\n",
    "from langchain.llms import OpenAI\n",
    "from langchain.chains.question_answering import load_qa_chain\n",
    "\n",
    "\n",
    "from langchain.prompts.chat import (\n",
    "    ChatPromptTemplate,\n",
    "    SystemMessagePromptTemplate,\n",
    "    HumanMessagePromptTemplate\n",
    ")"
   ]
  },
  {
   "cell_type": "code",
   "execution_count": 5,
   "outputs": [],
   "source": [
    "loader = DirectoryLoader('./resources/ngnL/', glob=\"**/*.epub\")"
   ],
   "metadata": {
    "collapsed": false,
    "ExecuteTime": {
     "end_time": "2023-05-18T03:05:14.915297Z",
     "start_time": "2023-05-18T03:05:14.913805Z"
    }
   }
  },
  {
   "cell_type": "code",
   "execution_count": 6,
   "outputs": [
    {
     "name": "stdout",
     "output_type": "stream",
     "text": [
      "documents: 11\n"
     ]
    }
   ],
   "source": [
    "data = loader.load()\n",
    "print(f'documents: {len(data)}')"
   ],
   "metadata": {
    "collapsed": false,
    "ExecuteTime": {
     "end_time": "2023-05-18T03:05:26.666879Z",
     "start_time": "2023-05-18T03:05:15.525996Z"
    }
   }
  },
  {
   "cell_type": "code",
   "execution_count": 7,
   "outputs": [],
   "source": [
    "text_splitter = RecursiveCharacterTextSplitter(\n",
    "    chunk_size = 250,\n",
    "    chunk_overlap = 25\n",
    ")"
   ],
   "metadata": {
    "collapsed": false,
    "ExecuteTime": {
     "end_time": "2023-05-18T03:05:26.669994Z",
     "start_time": "2023-05-18T03:05:26.667799Z"
    }
   }
  },
  {
   "cell_type": "code",
   "execution_count": 8,
   "outputs": [
    {
     "name": "stdout",
     "output_type": "stream",
     "text": [
      "documents:6001\n"
     ]
    }
   ],
   "source": [
    "split_docs = text_splitter.split_documents(data)\n",
    "print(f'documents:{len(split_docs)}')"
   ],
   "metadata": {
    "collapsed": false,
    "ExecuteTime": {
     "end_time": "2023-05-18T03:05:26.718070Z",
     "start_time": "2023-05-18T03:05:26.669545Z"
    }
   }
  },
  {
   "cell_type": "code",
   "execution_count": 9,
   "outputs": [],
   "source": [
    "embeddings = OpenAIEmbeddings()"
   ],
   "metadata": {
    "collapsed": false,
    "ExecuteTime": {
     "end_time": "2023-05-18T03:05:26.726581Z",
     "start_time": "2023-05-18T03:05:26.717664Z"
    }
   }
  },
  {
   "cell_type": "code",
   "execution_count": 10,
   "outputs": [],
   "source": [
    "database = FAISS.from_documents(split_docs, embeddings)"
   ],
   "metadata": {
    "collapsed": false,
    "ExecuteTime": {
     "end_time": "2023-05-18T03:06:18.374668Z",
     "start_time": "2023-05-18T03:05:26.729316Z"
    }
   }
  },
  {
   "cell_type": "code",
   "execution_count": 11,
   "outputs": [],
   "source": [
    "database.save_local(\"./db/\")"
   ],
   "metadata": {
    "collapsed": false,
    "ExecuteTime": {
     "end_time": "2023-05-18T03:06:18.402077Z",
     "start_time": "2023-05-18T03:06:18.375070Z"
    }
   }
  },
  {
   "cell_type": "code",
   "execution_count": 12,
   "outputs": [
    {
     "data": {
      "text/plain": "<langchain.vectorstores.faiss.FAISS at 0x2b7f7ef20>"
     },
     "execution_count": 12,
     "metadata": {},
     "output_type": "execute_result"
    }
   ],
   "source": [
    "database.load_local(\"./db/\", embeddings=embeddings)"
   ],
   "metadata": {
    "collapsed": false,
    "ExecuteTime": {
     "end_time": "2023-05-18T03:06:18.444425Z",
     "start_time": "2023-05-18T03:06:18.401675Z"
    }
   }
  },
  {
   "cell_type": "code",
   "execution_count": 13,
   "outputs": [
    {
     "name": "stderr",
     "output_type": "stream",
     "text": [
      "/opt/homebrew/Caskroom/miniconda/base/envs/LangChainLabs/lib/python3.10/site-packages/langchain/chains/retrieval_qa/base.py:201: UserWarning: `VectorDBQA` is deprecated - please use `from langchain.chains import RetrievalQA`\n",
      "  warnings.warn(\n"
     ]
    }
   ],
   "source": [
    "qa = VectorDBQA.from_chain_type(llm=OpenAI(), chain_type=\"stuff\", vectorstore=database,return_source_documents=True)"
   ],
   "metadata": {
    "collapsed": false,
    "ExecuteTime": {
     "end_time": "2023-05-18T03:06:18.449817Z",
     "start_time": "2023-05-18T03:06:18.426038Z"
    }
   }
  },
  {
   "cell_type": "code",
   "execution_count": 15,
   "outputs": [
    {
     "name": "stdout",
     "output_type": "stream",
     "text": [
      "{'query': '阿兹莉尔现在怎么样了？', 'result': ' 阿兹莉尔正凝视着映在虚空中的影像，仍在思索。名为绝望的黑暗中出现一道光明，朝着阿兹莉尔走过来的，名符其实的天使小吉正在和她说话。', 'source_documents': [Document(page_content='是啊！现在正是攸关艾尔奇亚与全人类种生死的关键时刻。\\n\\n只要想到这样的状况，根本不可能会心动的！\\n\\n我要让心灵归于虚无，撑过这两个小时。\\n\\n为了拯救艾尔奇亚，这是现在的我唯一能采取的行动！！\\n\\n史蒂芙如此告诉自己，怀着钢铁一般坚定的决心。但是──\\n\\n「……呼～❤」\\n\\n「呀啊啊嗯！？」\\n\\n突然，有人从背后朝着她的耳朵吹了一口气，瞬间粉碎了她的决心。\\n\\n「你、你这是在做什么！？吉普莉尔！」\\n\\n史蒂芙转头责问突然出现在背后的吉普莉尔。\\n\\n吉普莉尔却是一点歉意都没有，只是一脸不解。', metadata={'source': 'resources/ngnL/11.epub'}), Document(page_content='■■■\\n\\n「……看来也有其他人懂了……这样你还要说只有我是特别的吗？」\\n\\n吉普莉尔苦笑着说道。\\n\\n阿兹莉尔面无表情，但是在那张面具之下则是苦恼扭曲的模样。\\n\\n──那是什么？到底是怎么一回事？完全看不懂。\\n\\n凝视着映在虚空中的影像，阿兹莉尔仍在思索。\\n\\n在逐渐崩毁的阿邦特•赫伊姆之中，飞翔的两人出神入化地回避障碍物。\\n\\n他们笔直地──往这里前进，彷佛知道自己的位置一般──！', metadata={'source': 'resources/ngnL/05.epub'}), Document(page_content='她是天翼种的全权代理──『第一号个体』阿兹莉尔。\\n\\n只不过史蒂芙之所以会倒抽一口气，不是因为『她的模样』。\\n\\n而是从城堡窗户望见的天空──就像被盖住似地封闭了。\\n\\n她大概将阿邦特•赫伊姆整个转移至艾尔奇亚上空了。\\n\\n「可不是人人都像小吉那样通情达理哦──铁屑？」\\n\\n她的双眸之中，散发出非比寻常的──『敌意』。\\n\\n与吉普莉尔和机凯种交锋时相比，『情感』性质完全不同。', metadata={'source': 'resources/ngnL/09.epub'}), Document(page_content='在都市的深处，阿兹莉尔把那里定义为自己的埋骨之所。\\n\\n「呵……这个世界既无希望也无救赎，人们毕竟只能孤独一人，遗落在名为绝望的黑暗之中。」\\n\\n阿兹莉尔落寞地吟诗，决定就这样老死一生。\\n\\n「……以前辈来说真是相当诗情画意呢……前辈是撞到头了吗？」\\n\\n──听到声音，阿兹莉尔抬头看去，名为绝望的黑暗中，出现一道光明。\\n\\n名符其实的天使，朝着阿兹莉尔走过来，而且继续说道：\\n\\n「不对，你是撞到全身了呢，不过撞到哪都无所谓，不管怎样，我找了很久哦。」\\n\\n「小、小吉……你是来找姐姐的吗……！？」', metadata={'source': 'resources/ngnL/09.epub'})]}\n"
     ]
    }
   ],
   "source": [
    "result = qa({\"query\": \"阿兹莉尔现在怎么样了？\"})\n",
    "print(result)"
   ],
   "metadata": {
    "collapsed": false,
    "ExecuteTime": {
     "end_time": "2023-05-18T03:07:21.662290Z",
     "start_time": "2023-05-18T03:07:07.780948Z"
    }
   }
  },
  {
   "cell_type": "code",
   "execution_count": null,
   "outputs": [],
   "source": [],
   "metadata": {
    "collapsed": false
   }
  }
 ],
 "metadata": {
  "kernelspec": {
   "display_name": "Python 3",
   "language": "python",
   "name": "python3"
  },
  "language_info": {
   "codemirror_mode": {
    "name": "ipython",
    "version": 2
   },
   "file_extension": ".py",
   "mimetype": "text/x-python",
   "name": "python",
   "nbconvert_exporter": "python",
   "pygments_lexer": "ipython2",
   "version": "2.7.6"
  }
 },
 "nbformat": 4,
 "nbformat_minor": 0
}
